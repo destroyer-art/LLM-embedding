{
 "cells": [
  {
   "cell_type": "code",
   "execution_count": 2,
   "metadata": {},
   "outputs": [],
   "source": [
    "import numpy as np\n",
    "import pandas as pd\n",
    "from matplotlib import pyplot as plt\n",
    "import seaborn as sns\n",
    "\n",
    "%matplotlib inline\n",
    "%config InlineBackend.figure_format = 'retina'\n",
    "\n",
    "# Set sensible defaults\n",
    "sns.set()\n",
    "sns.set_style(\"ticks\")\n",
    "sns.set_context('talk')"
   ]
  },
  {
   "cell_type": "code",
   "execution_count": 4,
   "metadata": {},
   "outputs": [
    {
     "name": "stdout",
     "output_type": "stream",
     "text": [
      "<class 'pandas.core.frame.DataFrame'>\n",
      "RangeIndex: 2100 entries, 0 to 2099\n",
      "Data columns (total 3 columns):\n",
      " #   Column       Non-Null Count  Dtype \n",
      "---  ------       --------------  ----- \n",
      " 0   title        2100 non-null   object\n",
      " 1   url          2100 non-null   object\n",
      " 2   description  2100 non-null   object\n",
      "dtypes: object(3)\n",
      "memory usage: 49.3+ KB\n"
     ]
    }
   ],
   "source": [
    "df_metadata = pd.read_csv('merged_data.csv')\n",
    "df_metadata.info()"
   ]
  },
  {
   "cell_type": "code",
   "execution_count": 5,
   "metadata": {},
   "outputs": [
    {
     "name": "stdout",
     "output_type": "stream",
     "text": [
      "<class 'pandas.core.frame.DataFrame'>\n",
      "RangeIndex: 2100 entries, 0 to 2099\n",
      "Data columns (total 4 columns):\n",
      " #   Column       Non-Null Count  Dtype \n",
      "---  ------       --------------  ----- \n",
      " 0   title        2100 non-null   object\n",
      " 1   url          2100 non-null   object\n",
      " 2   description  2100 non-null   object\n",
      " 3   embed_index  2100 non-null   int64 \n",
      "dtypes: int64(1), object(3)\n",
      "memory usage: 65.8+ KB\n"
     ]
    }
   ],
   "source": [
    "df_metadata['embed_index'] = -1\n",
    "df_metadata.info()"
   ]
  },
  {
   "cell_type": "code",
   "execution_count": null,
   "metadata": {},
   "outputs": [],
   "source": [
    "import openai\n",
    "from dotenv import load_dotenv\n",
    "import os\n",
    "load_dotenv()\n",
    "openai.api_key = os.environ[\"OPENAI_API_KEY\"]\n",
    "\n",
    "def get_embeddings(text):\n",
    "    response = openai.Embedding.create(\n",
    "      model=\"text-embedding-ada-002\",\n",
    "      input=text,\n",
    "    )\n",
    "    return response['data'][0]['embedding']\n",
    "\n",
    "embeddings = []\n",
    "for i, row in df_metadata.iterrows():\n",
    "    url, title, description = row['url'], row['title'], row['description']\n",
    "    print(url, title)\n",
    "\n",
    "    try:\n",
    "        # Combine the title and description for embedding\n",
    "        embedding = get_embeddings(description)\n",
    "        embeddings.append(embedding)\n",
    "        df_metadata.loc[i, \"embed_index\"] = i\n",
    "    except Exception as e:\n",
    "        print(url, e)\n",
    "        raise e\n",
    "\n",
    "# Convert embeddings list to numpy array\n",
    "embeddings_array = np.array(embeddings)"
   ]
  },
  {
   "cell_type": "code",
   "execution_count": 8,
   "metadata": {},
   "outputs": [
    {
     "data": {
      "text/plain": [
       "(2100, 1536)"
      ]
     },
     "execution_count": 8,
     "metadata": {},
     "output_type": "execute_result"
    }
   ],
   "source": [
    "embeddings_array.shape"
   ]
  },
  {
   "cell_type": "code",
   "execution_count": 18,
   "metadata": {},
   "outputs": [
    {
     "data": {
      "text/html": [
       "<div>\n",
       "<style scoped>\n",
       "    .dataframe tbody tr th:only-of-type {\n",
       "        vertical-align: middle;\n",
       "    }\n",
       "\n",
       "    .dataframe tbody tr th {\n",
       "        vertical-align: top;\n",
       "    }\n",
       "\n",
       "    .dataframe thead th {\n",
       "        text-align: right;\n",
       "    }\n",
       "</style>\n",
       "<table border=\"1\" class=\"dataframe\">\n",
       "  <thead>\n",
       "    <tr style=\"text-align: right;\">\n",
       "      <th></th>\n",
       "      <th>title</th>\n",
       "      <th>description</th>\n",
       "      <th>similarity</th>\n",
       "    </tr>\n",
       "  </thead>\n",
       "  <tbody>\n",
       "    <tr>\n",
       "      <th>2087</th>\n",
       "      <td>mentat</td>\n",
       "      <td>REPO: mentat [2023-07-25T18:00:13Z, stars: 273...</td>\n",
       "      <td>0.836336</td>\n",
       "    </tr>\n",
       "    <tr>\n",
       "      <th>2053</th>\n",
       "      <td>code-review-gpt</td>\n",
       "      <td>REPO: code-review-gpt [2023-07-06T22:15:26Z, s...</td>\n",
       "      <td>0.820377</td>\n",
       "    </tr>\n",
       "    <tr>\n",
       "      <th>2094</th>\n",
       "      <td>openai-quickstart</td>\n",
       "      <td>REPO: openai-quickstart [2023-07-17T15:43:10Z,...</td>\n",
       "      <td>0.818189</td>\n",
       "    </tr>\n",
       "    <tr>\n",
       "      <th>2047</th>\n",
       "      <td>CodeGeeX2</td>\n",
       "      <td>REPO: CodeGeeX2 [2023-07-23T18:26:53Z, stars: ...</td>\n",
       "      <td>0.812625</td>\n",
       "    </tr>\n",
       "    <tr>\n",
       "      <th>366</th>\n",
       "      <td>Artificial Intelligence for Science in Quantum...</td>\n",
       "      <td>PAPER: Artificial Intelligence for Science in ...</td>\n",
       "      <td>0.808637</td>\n",
       "    </tr>\n",
       "    <tr>\n",
       "      <th>...</th>\n",
       "      <td>...</td>\n",
       "      <td>...</td>\n",
       "      <td>...</td>\n",
       "    </tr>\n",
       "    <tr>\n",
       "      <th>624</th>\n",
       "      <td>Porous CrO$_2$: a ferromagnetic half-metallic ...</td>\n",
       "      <td>PAPER: Porous CrO$_2$: a ferromagnetic half-me...</td>\n",
       "      <td>0.660380</td>\n",
       "    </tr>\n",
       "    <tr>\n",
       "      <th>1211</th>\n",
       "      <td>Gilbert damping in metallic ferromagnets from ...</td>\n",
       "      <td>PAPER: Gilbert damping in metallic ferromagnet...</td>\n",
       "      <td>0.659543</td>\n",
       "    </tr>\n",
       "    <tr>\n",
       "      <th>25</th>\n",
       "      <td>Magnetotransport and Berry phase Tuning in Gd-...</td>\n",
       "      <td>PAPER: Magnetotransport and Berry phase Tuning...</td>\n",
       "      <td>0.659084</td>\n",
       "    </tr>\n",
       "    <tr>\n",
       "      <th>297</th>\n",
       "      <td>Lowest-order QED radiative corrections in unpo...</td>\n",
       "      <td>PAPER: Lowest-order QED radiative corrections ...</td>\n",
       "      <td>0.658636</td>\n",
       "    </tr>\n",
       "    <tr>\n",
       "      <th>871</th>\n",
       "      <td>Structural, vibrational and electronic propert...</td>\n",
       "      <td>PAPER: Structural, vibrational and electronic ...</td>\n",
       "      <td>0.649536</td>\n",
       "    </tr>\n",
       "  </tbody>\n",
       "</table>\n",
       "<p>2100 rows × 3 columns</p>\n",
       "</div>"
      ],
      "text/plain": [
       "                                                  title  \\\n",
       "2087                                             mentat   \n",
       "2053                                    code-review-gpt   \n",
       "2094                                  openai-quickstart   \n",
       "2047                                          CodeGeeX2   \n",
       "366   Artificial Intelligence for Science in Quantum...   \n",
       "...                                                 ...   \n",
       "624   Porous CrO$_2$: a ferromagnetic half-metallic ...   \n",
       "1211  Gilbert damping in metallic ferromagnets from ...   \n",
       "25    Magnetotransport and Berry phase Tuning in Gd-...   \n",
       "297   Lowest-order QED radiative corrections in unpo...   \n",
       "871   Structural, vibrational and electronic propert...   \n",
       "\n",
       "                                            description  similarity  \n",
       "2087  REPO: mentat [2023-07-25T18:00:13Z, stars: 273...    0.836336  \n",
       "2053  REPO: code-review-gpt [2023-07-06T22:15:26Z, s...    0.820377  \n",
       "2094  REPO: openai-quickstart [2023-07-17T15:43:10Z,...    0.818189  \n",
       "2047  REPO: CodeGeeX2 [2023-07-23T18:26:53Z, stars: ...    0.812625  \n",
       "366   PAPER: Artificial Intelligence for Science in ...    0.808637  \n",
       "...                                                 ...         ...  \n",
       "624   PAPER: Porous CrO$_2$: a ferromagnetic half-me...    0.660380  \n",
       "1211  PAPER: Gilbert damping in metallic ferromagnet...    0.659543  \n",
       "25    PAPER: Magnetotransport and Berry phase Tuning...    0.659084  \n",
       "297   PAPER: Lowest-order QED radiative corrections ...    0.658636  \n",
       "871   PAPER: Structural, vibrational and electronic ...    0.649536  \n",
       "\n",
       "[2100 rows x 3 columns]"
      ]
     },
     "execution_count": 18,
     "metadata": {},
     "output_type": "execute_result"
    }
   ],
   "source": [
    "import sklearn\n",
    "from sklearn.metrics.pairwise import cosine_similarity\n",
    "\n",
    "def search_knowledgebase(query):\n",
    "    # Get the embedding of the query\n",
    "    query_embedding = get_embeddings(query)\n",
    "    query_embedding = np.array(query_embedding).reshape(1, -1)\n",
    "\n",
    "    # Calculate cosine similarities\n",
    "    similarities = cosine_similarity(query_embedding, embeddings_array)\n",
    "    similarities = similarities.flatten()\n",
    "\n",
    "    # Create a DataFrame for easy manipulation\n",
    "    df = df_metadata.copy()\n",
    "    df['similarity'] = similarities\n",
    "\n",
    "    # Sort by similarity\n",
    "    df_sorted = df.sort_values(by='similarity', ascending=False)\n",
    "\n",
    "    # Get the ranked list of titles and descriptions\n",
    "    results = df_sorted[['title', 'description', 'similarity']]\n",
    "\n",
    "    return results\n",
    "\n",
    "search_knowledgebase(\"Writing code using AI\")\n"
   ]
  },
  {
   "cell_type": "code",
   "execution_count": 10,
   "metadata": {},
   "outputs": [],
   "source": [
    "# Write embeddings_array to pickle file\n",
    "import pickle\n",
    "with open('embeddings.pkl', 'wb') as f:\n",
    "    pickle.dump(embeddings_array, f)\n",
    "# Write df_metadata to csv\n",
    "df_metadata.to_csv(\"metadata.csv\", index=False)"
   ]
  }
 ],
 "metadata": {
  "kernelspec": {
   "display_name": "Python 3",
   "language": "python",
   "name": "python3"
  },
  "language_info": {
   "codemirror_mode": {
    "name": "ipython",
    "version": 3
   },
   "file_extension": ".py",
   "mimetype": "text/x-python",
   "name": "python",
   "nbconvert_exporter": "python",
   "pygments_lexer": "ipython3",
   "version": "3.10.8"
  },
  "orig_nbformat": 4
 },
 "nbformat": 4,
 "nbformat_minor": 2
}
